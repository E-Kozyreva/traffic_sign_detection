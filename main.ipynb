{
  "nbformat": 4,
  "nbformat_minor": 0,
  "metadata": {
    "colab": {
      "provenance": [],
      "gpuType": "T4"
    },
    "kernelspec": {
      "name": "python3",
      "display_name": "Python 3"
    },
    "language_info": {
      "name": "python"
    },
    "accelerator": "GPU"
  },
  "cells": [
    {
      "cell_type": "markdown",
      "source": [
        "### Проверяем выбран ли у нас GPU"
      ],
      "metadata": {
        "id": "pJ7VZ3fcaFuz"
      }
    },
    {
      "cell_type": "code",
      "source": [
        "!nvcc --version"
      ],
      "metadata": {
        "id": "-TWkF2TATk6M"
      },
      "execution_count": null,
      "outputs": []
    },
    {
      "cell_type": "code",
      "source": [
        "!nvidia-smi"
      ],
      "metadata": {
        "id": "mn20kFFMUkiN"
      },
      "execution_count": null,
      "outputs": []
    },
    {
      "cell_type": "markdown",
      "source": [
        "### Удаляем ненужную папку sample_data"
      ],
      "metadata": {
        "id": "esNHjasiBYz1"
      }
    },
    {
      "cell_type": "code",
      "source": [
        "!rm -rf ./sample_data"
      ],
      "metadata": {
        "id": "KsdiZlpSAyJz"
      },
      "execution_count": null,
      "outputs": []
    },
    {
      "cell_type": "markdown",
      "source": [
        "### Устанавливаем утилиты"
      ],
      "metadata": {
        "id": "KbmjQ-ADAqwv"
      }
    },
    {
      "cell_type": "markdown",
      "source": [
        "Клонируем репозиторий и меняем в файле general_json2yolo.py меняем 274 строчку на <br>h, w, f = img['height'], img['width'], img['file_name'].split('/')[1]</br>"
      ],
      "metadata": {
        "id": "2GEoQNkMBrJZ"
      }
    },
    {
      "cell_type": "markdown",
      "source": [
        "В файлах general_json2yolo.py и labelbox_json2yolo.py, добавьте в перед каждым utils точку, чтобы было так <br>from .utils import ..."
      ],
      "metadata": {
        "id": "yP4qP9a_H2so"
      }
    },
    {
      "cell_type": "code",
      "execution_count": null,
      "metadata": {
        "id": "Mw1E5QqXAb2D"
      },
      "outputs": [],
      "source": [
        "!git clone https://github.com/ultralytics/JSON2YOLO"
      ]
    },
    {
      "cell_type": "markdown",
      "source": [
        "### Устанавливаем библиотеки"
      ],
      "metadata": {
        "id": "UgUbvpcoCVAj"
      }
    },
    {
      "cell_type": "code",
      "source": [
        "%pip install -r /content/JSON2YOLO/requirements.txt"
      ],
      "metadata": {
        "id": "LGY29RUOCPX5"
      },
      "execution_count": null,
      "outputs": []
    },
    {
      "cell_type": "code",
      "source": [
        "%pip install kaggle ipywidgets widgetsnbextension"
      ],
      "metadata": {
        "id": "byptWyVWDAtv"
      },
      "execution_count": null,
      "outputs": []
    },
    {
      "cell_type": "markdown",
      "source": [
        "### Скачиваем датасет"
      ],
      "metadata": {
        "id": "se7k99nvDQRb"
      }
    },
    {
      "cell_type": "code",
      "source": [
        "import os"
      ],
      "metadata": {
        "id": "_XxtsEMcDST7"
      },
      "execution_count": null,
      "outputs": []
    },
    {
      "cell_type": "code",
      "source": [
        "os.environ['KAGGLE_USERNAME'] = \"kozyrevak1\"\n",
        "os.environ['KAGGLE_KEY'] = \"ef087b737e4d7f3cca034e69df2ac464\"\n",
        "!kaggle datasets download -d watchman/rtsd-dataset"
      ],
      "metadata": {
        "id": "cwCHdivmDUYD"
      },
      "execution_count": null,
      "outputs": []
    },
    {
      "cell_type": "markdown",
      "source": [
        "### Распаковываем архив"
      ],
      "metadata": {
        "id": "aONuAbh7D65N"
      }
    },
    {
      "cell_type": "code",
      "source": [
        "import zipfile"
      ],
      "metadata": {
        "id": "iw2xAjWpD9XB"
      },
      "execution_count": null,
      "outputs": []
    },
    {
      "cell_type": "code",
      "source": [
        "archive = zipfile.ZipFile('rtsd-dataset.zip', 'r')\n",
        "archive.extractall('.')"
      ],
      "metadata": {
        "id": "6fF2p499EAJn"
      },
      "execution_count": null,
      "outputs": []
    },
    {
      "cell_type": "markdown",
      "source": [
        "### Удаляем архив"
      ],
      "metadata": {
        "id": "QmWh7HuoEE-z"
      }
    },
    {
      "cell_type": "code",
      "source": [
        "os.remove('rtsd-dataset.zip')"
      ],
      "metadata": {
        "id": "8Uk9W9dGEAxX"
      },
      "execution_count": null,
      "outputs": []
    },
    {
      "cell_type": "markdown",
      "source": [
        "### Импортируем библиотеки"
      ],
      "metadata": {
        "id": "U4fhFr4cFjBq"
      }
    },
    {
      "cell_type": "code",
      "source": [
        "import pandas as pd\n",
        "from tqdm.notebook import tqdm\n",
        "from shutil import copyfile, move\n",
        "import sys\n",
        "import json\n",
        "from ipywidgets import FloatProgress"
      ],
      "metadata": {
        "id": "BUfoIPX5FhUa"
      },
      "execution_count": null,
      "outputs": []
    },
    {
      "cell_type": "code",
      "source": [
        "from JSON2YOLO.general_json2yolo import convert_coco_json\n",
        "sys.path.append('./JSON2YOLO')\n",
        "\n",
        "test_path = 'test_annotation'\n",
        "train_path = 'train_annotation'\n",
        "\n",
        "os.makedirs(train_path, exist_ok=True)\n",
        "os.makedirs(test_path, exist_ok=True)"
      ],
      "metadata": {
        "id": "rT11x2aXFmxR"
      },
      "execution_count": null,
      "outputs": []
    },
    {
      "cell_type": "code",
      "source": [
        "move('train_anno.json', os.path.join(train_path, 'train_anno.json'))\n",
        "move('val_anno.json', os.path.join(test_path, 'val_anno.json'))"
      ],
      "metadata": {
        "id": "nbVLGCA6Hor0"
      },
      "execution_count": null,
      "outputs": []
    },
    {
      "cell_type": "code",
      "source": [
        "for folder in ['labels', 'images']:\n",
        "    for path in [test_path, train_path]:\n",
        "        os.makedirs(os.path.join(path, folder), exist_ok=True)"
      ],
      "metadata": {
        "id": "eK_--KsbHra6"
      },
      "execution_count": null,
      "outputs": []
    },
    {
      "cell_type": "code",
      "source": [
        "convert_coco_json(train_path)\n",
        "for file in tqdm(os.listdir(os.path.join('new_dir/labels/train_anno'))):\n",
        "    move(os.path.join('new_dir/labels/train_anno', file), os.path.join(train_path, 'labels', file))\n",
        "\n",
        "convert_coco_json('./test_annotation/')\n",
        "for file in tqdm(os.listdir(os.path.join('new_dir/labels/val_anno'))):\n",
        "    move(os.path.join('new_dir/labels/val_anno', file), os.path.join(test_path, 'labels', file))"
      ],
      "metadata": {
        "id": "XQeOITCaHuAq"
      },
      "execution_count": null,
      "outputs": []
    },
    {
      "cell_type": "markdown",
      "source": [
        "### Добавим изображения уже к готовой разметке"
      ],
      "metadata": {
        "id": "5D0ratHBI1Lt"
      }
    },
    {
      "cell_type": "code",
      "source": [
        "test_labels = os.listdir(os.path.join(test_path, 'labels'))\n",
        "train_labels = os.listdir(os.path.join(train_path, 'labels'))\n",
        "\n",
        "test_labels = set(map(lambda x: x.split('.')[0], test_labels))\n",
        "train_labels = set(map(lambda x: x.split('.')[0], train_labels))"
      ],
      "metadata": {
        "id": "G1jYFD8zI_7J"
      },
      "execution_count": null,
      "outputs": []
    },
    {
      "cell_type": "code",
      "source": [
        "images = 'rtsd-frames/rtsd-frames'\n",
        "for file in os.listdir(images):\n",
        "    name = file.split('.')[0]\n",
        "    if name in train_labels:\n",
        "        move(os.path.join(images, file), os.path.join(train_path,'images', file))\n",
        "    if name in test_labels:\n",
        "        move(os.path.join(images, file), os.path.join(test_path,'images', file))"
      ],
      "metadata": {
        "id": "BjSb6Q3KJDBt"
      },
      "execution_count": null,
      "outputs": []
    },
    {
      "cell_type": "markdown",
      "source": [
        "### Создадим yaml файл"
      ],
      "metadata": {
        "id": "zOuPrr08JdH6"
      }
    },
    {
      "cell_type": "code",
      "source": [
        "%pip install PyYAML==5.1"
      ],
      "metadata": {
        "id": "dYaInAPvOhrp"
      },
      "execution_count": null,
      "outputs": []
    },
    {
      "cell_type": "code",
      "source": [
        "import yaml"
      ],
      "metadata": {
        "id": "TTSkCG2tKTzO"
      },
      "execution_count": null,
      "outputs": []
    },
    {
      "cell_type": "code",
      "source": [
        "data = [{\n",
        "    'train': '/content/train_annotation/images',\n",
        "    'val': '/content/test_annotation/images',\n",
        "    'nc': 155,\n",
        "    'names': ['2_1', '1_23', '1_17', '3_24', '8_2_1', '5_20', '5_19_1', '5_16', '3_25',\n",
        "              '6_16', '7_15', '2_2', '2_4', '8_13_1', '4_2_1', '1_20_3', '1_25', '3_4', '8_3_2',\n",
        "              '3_4_1', '4_1_6', '4_2_3', '4_1_1', '1_33', '5_15_5', '3_27', '1_15', '4_1_2_1',\n",
        "              '6_3_1', '8_1_1', '6_7', '5_15_3', '7_3', '1_19', '6_4', '8_1_4', '8_8', '1_16',\n",
        "              '1_11_1', '6_6', '5_15_1', '7_2', '5_15_2', '7_12', '3_18', '5_6', '5_5', '7_4',\n",
        "              '4_1_2', '8_2_2', '7_11', '1_22', '1_27', '2_3_2', '5_15_2_2', '1_8', '3_13',\n",
        "              '2_3', '8_3_3', '2_3_3', '7_7', '1_11', '8_13', '1_12_2', '1_20', '1_12', '3_32',\n",
        "              '2_5', '3_1', '4_8_2', '3_20', '3_2', '2_3_6', '5_22', '5_18', '2_3_5', '7_5',\n",
        "              '8_4_1', '3_14', '1_2', '1_20_2', '4_1_4', '7_6', '8_1_3', '8_3_1', '4_3', '4_1_5',\n",
        "              '8_2_3', '8_2_4', '1_31', '3_10', '4_2_2', '7_1', '3_28', '4_1_3', '5_4', '5_3',\n",
        "              '6_8_2', '3_31', '6_2', '1_21', '3_21', '1_13', '1_14', '2_3_4', '4_8_3', '6_15_2',\n",
        "              '2_6', '3_18_2', '4_1_2_2', '1_7', '3_19', '1_18', '2_7', '8_5_4', '5_15_7', '5_14',\n",
        "              '5_21', '1_1', '6_15_1', '8_6_4', '8_15', '4_5', '3_11', '8_18', '8_4_4', '3_30',\n",
        "              '5_7_1', '5_7_2', '1_5', '3_29', '6_15_3', '5_12', '3_16', '1_30', '5_11', '1_6',\n",
        "              '8_6_2', '6_8_3', '3_12', '3_33', '8_4_3', '5_8', '8_14', '8_17', '3_6', '1_26',\n",
        "              '8_5_2', '6_8_1', '5_17', '1_10', '8_16', '7_18', '7_14', '8_23']\n",
        "}]"
      ],
      "metadata": {
        "id": "2yrW4mDcJ35Q"
      },
      "execution_count": null,
      "outputs": []
    },
    {
      "cell_type": "code",
      "source": [
        "def write_yaml_to_file(py_obj, filename) :\n",
        "    with open(f'{filename}.yaml', 'w+',) as f:\n",
        "        yaml.dump_all(py_obj, f, sort_keys=False)\n",
        "write_yaml_to_file(data, 'trafic_signs')"
      ],
      "metadata": {
        "id": "9JZM52JPLjWZ"
      },
      "execution_count": null,
      "outputs": []
    },
    {
      "cell_type": "markdown",
      "source": [
        "### Устанавливаем библиотеки"
      ],
      "metadata": {
        "id": "6Mrd1dClQzmi"
      }
    },
    {
      "cell_type": "code",
      "source": [
        "%pip install ultralytics"
      ],
      "metadata": {
        "id": "dIhDfv-4r70y"
      },
      "execution_count": null,
      "outputs": []
    },
    {
      "cell_type": "markdown",
      "source": [
        "### Обучение"
      ],
      "metadata": {
        "id": "D5D34PpSSQ6K"
      }
    },
    {
      "cell_type": "code",
      "source": [
        "from ultralytics import YOLO\n",
        "import torch\n",
        "import gc"
      ],
      "metadata": {
        "id": "64cVz4FeSQID"
      },
      "execution_count": null,
      "outputs": []
    },
    {
      "cell_type": "code",
      "source": [
        "gc.collect()\n",
        "torch.cuda.empty_cache()"
      ],
      "metadata": {
        "id": "MEw3i1VCaljE"
      },
      "execution_count": null,
      "outputs": []
    },
    {
      "cell_type": "code",
      "source": [
        "model = YOLO('yolov8s.pt')\n",
        "\n",
        "results = model.train(\n",
        "   data='/content/trafic_signs.yaml',\n",
        "   imgsz=1280,\n",
        "   epochs=5,\n",
        "   batch=6,\n",
        "   device=0,\n",
        "   name='YOLOv8s'\n",
        ")"
      ],
      "metadata": {
        "id": "7dFP4an_SXmC"
      },
      "execution_count": null,
      "outputs": []
    }
  ]
}