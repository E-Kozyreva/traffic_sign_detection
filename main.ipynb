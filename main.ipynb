{
  "cells": [
    {
      "cell_type": "markdown",
      "metadata": {
        "id": "pJ7VZ3fcaFuz"
      },
      "source": [
        "### Проверяем выбран ли у нас GPU"
      ]
    },
    {
      "cell_type": "code",
      "execution_count": null,
      "metadata": {
        "id": "-TWkF2TATk6M"
      },
      "outputs": [],
      "source": [
        "!nvcc --version"
      ]
    },
    {
      "cell_type": "code",
      "execution_count": null,
      "metadata": {
        "id": "mn20kFFMUkiN"
      },
      "outputs": [],
      "source": [
        "!nvidia-smi"
      ]
    },
    {
      "cell_type": "markdown",
      "metadata": {
        "id": "esNHjasiBYz1"
      },
      "source": [
        "### Удаляем ненужную папку sample_data"
      ]
    },
    {
      "cell_type": "code",
      "execution_count": null,
      "metadata": {
        "id": "KsdiZlpSAyJz"
      },
      "outputs": [],
      "source": [
        "!rm -rf ./sample_data"
      ]
    },
    {
      "cell_type": "markdown",
      "metadata": {
        "id": "KbmjQ-ADAqwv"
      },
      "source": [
        "### Устанавливаем утилиты"
      ]
    },
    {
      "cell_type": "markdown",
      "metadata": {
        "id": "2GEoQNkMBrJZ"
      },
      "source": [
        "Клонируем репозиторий и меняем в файле general_json2yolo.py меняем 274 строчку на <br>h, w, f = img['height'], img['width'], img['file_name'].split('/')[1]</br>"
      ]
    },
    {
      "cell_type": "markdown",
      "metadata": {
        "id": "yP4qP9a_H2so"
      },
      "source": [
        "В файлах general_json2yolo.py и labelbox_json2yolo.py, добавьте в перед каждым utils точку, чтобы было так <br>from .utils import ..."
      ]
    },
    {
      "cell_type": "code",
      "execution_count": null,
      "metadata": {
        "id": "Mw1E5QqXAb2D"
      },
      "outputs": [],
      "source": [
        "!git clone https://github.com/ultralytics/JSON2YOLO"
      ]
    },
    {
      "cell_type": "markdown",
      "metadata": {
        "id": "UgUbvpcoCVAj"
      },
      "source": [
        "### Устанавливаем библиотеки"
      ]
    },
    {
      "cell_type": "code",
      "execution_count": null,
      "metadata": {
        "id": "LGY29RUOCPX5"
      },
      "outputs": [],
      "source": [
        "%pip install -r /content/JSON2YOLO/requirements.txt"
      ]
    },
    {
      "cell_type": "code",
      "execution_count": null,
      "metadata": {
        "id": "byptWyVWDAtv"
      },
      "outputs": [],
      "source": [
        "%pip install kaggle ipywidgets widgetsnbextension"
      ]
    },
    {
      "cell_type": "markdown",
      "metadata": {
        "id": "se7k99nvDQRb"
      },
      "source": [
        "### Скачиваем датасет"
      ]
    },
    {
      "cell_type": "code",
      "execution_count": null,
      "metadata": {
        "id": "_XxtsEMcDST7"
      },
      "outputs": [],
      "source": [
        "import os"
      ]
    },
    {
      "cell_type": "code",
      "execution_count": null,
      "metadata": {
        "id": "cwCHdivmDUYD"
      },
      "outputs": [],
      "source": [
        "os.environ['KAGGLE_USERNAME'] = \"xxx\"\n",
        "os.environ['KAGGLE_KEY'] = \"xxx\"\n",
        "!kaggle datasets download -d watchman/rtsd-dataset"
      ]
    },
    {
      "cell_type": "markdown",
      "metadata": {
        "id": "aONuAbh7D65N"
      },
      "source": [
        "### Распаковываем архив"
      ]
    },
    {
      "cell_type": "code",
      "execution_count": null,
      "metadata": {
        "id": "iw2xAjWpD9XB"
      },
      "outputs": [],
      "source": [
        "import zipfile"
      ]
    },
    {
      "cell_type": "code",
      "execution_count": null,
      "metadata": {
        "id": "6fF2p499EAJn"
      },
      "outputs": [],
      "source": [
        "archive = zipfile.ZipFile('rtsd-dataset.zip', 'r')\n",
        "archive.extractall('.')"
      ]
    },
    {
      "cell_type": "markdown",
      "metadata": {
        "id": "QmWh7HuoEE-z"
      },
      "source": [
        "### Удаляем архив"
      ]
    },
    {
      "cell_type": "code",
      "execution_count": null,
      "metadata": {
        "id": "8Uk9W9dGEAxX"
      },
      "outputs": [],
      "source": [
        "os.remove('rtsd-dataset.zip')"
      ]
    },
    {
      "cell_type": "markdown",
      "metadata": {
        "id": "U4fhFr4cFjBq"
      },
      "source": [
        "### Импортируем библиотеки"
      ]
    },
    {
      "cell_type": "code",
      "execution_count": null,
      "metadata": {
        "id": "BUfoIPX5FhUa"
      },
      "outputs": [],
      "source": [
        "import pandas as pd\n",
        "from tqdm.notebook import tqdm\n",
        "from shutil import copyfile, move\n",
        "import sys\n",
        "import json\n",
        "from ipywidgets import FloatProgress"
      ]
    },
    {
      "cell_type": "code",
      "execution_count": null,
      "metadata": {
        "id": "rT11x2aXFmxR"
      },
      "outputs": [],
      "source": [
        "from JSON2YOLO.general_json2yolo import convert_coco_json\n",
        "sys.path.append('./JSON2YOLO')\n",
        "\n",
        "test_path = 'test_annotation'\n",
        "train_path = 'train_annotation'\n",
        "\n",
        "os.makedirs(train_path, exist_ok=True)\n",
        "os.makedirs(test_path, exist_ok=True)"
      ]
    },
    {
      "cell_type": "code",
      "execution_count": null,
      "metadata": {
        "id": "nbVLGCA6Hor0"
      },
      "outputs": [],
      "source": [
        "move('train_anno.json', os.path.join(train_path, 'train_anno.json'))\n",
        "move('val_anno.json', os.path.join(test_path, 'val_anno.json'))"
      ]
    },
    {
      "cell_type": "code",
      "execution_count": null,
      "metadata": {
        "id": "eK_--KsbHra6"
      },
      "outputs": [],
      "source": [
        "for folder in ['labels', 'images']:\n",
        "    for path in [test_path, train_path]:\n",
        "        os.makedirs(os.path.join(path, folder), exist_ok=True)"
      ]
    },
    {
      "cell_type": "code",
      "execution_count": null,
      "metadata": {
        "id": "XQeOITCaHuAq"
      },
      "outputs": [],
      "source": [
        "convert_coco_json(train_path)\n",
        "for file in tqdm(os.listdir(os.path.join('new_dir/labels/train_anno'))):\n",
        "    move(os.path.join('new_dir/labels/train_anno', file), os.path.join(train_path, 'labels', file))\n",
        "\n",
        "convert_coco_json('./test_annotation/')\n",
        "for file in tqdm(os.listdir(os.path.join('new_dir/labels/val_anno'))):\n",
        "    move(os.path.join('new_dir/labels/val_anno', file), os.path.join(test_path, 'labels', file))"
      ]
    },
    {
      "cell_type": "markdown",
      "metadata": {
        "id": "5D0ratHBI1Lt"
      },
      "source": [
        "### Добавим изображения уже к готовой разметке"
      ]
    },
    {
      "cell_type": "code",
      "execution_count": null,
      "metadata": {
        "id": "G1jYFD8zI_7J"
      },
      "outputs": [],
      "source": [
        "test_labels = os.listdir(os.path.join(test_path, 'labels'))\n",
        "train_labels = os.listdir(os.path.join(train_path, 'labels'))\n",
        "\n",
        "test_labels = set(map(lambda x: x.split('.')[0], test_labels))\n",
        "train_labels = set(map(lambda x: x.split('.')[0], train_labels))"
      ]
    },
    {
      "cell_type": "code",
      "execution_count": null,
      "metadata": {
        "id": "BjSb6Q3KJDBt"
      },
      "outputs": [],
      "source": [
        "images = 'rtsd-frames/rtsd-frames'\n",
        "for file in os.listdir(images):\n",
        "    name = file.split('.')[0]\n",
        "    if name in train_labels:\n",
        "        move(os.path.join(images, file), os.path.join(train_path,'images', file))\n",
        "    if name in test_labels:\n",
        "        move(os.path.join(images, file), os.path.join(test_path,'images', file))"
      ]
    },
    {
      "cell_type": "markdown",
      "metadata": {
        "id": "zOuPrr08JdH6"
      },
      "source": [
        "### Создадим yaml файл"
      ]
    },
    {
      "cell_type": "code",
      "execution_count": null,
      "metadata": {
        "id": "dYaInAPvOhrp"
      },
      "outputs": [],
      "source": [
        "%pip install PyYAML==5.1"
      ]
    },
    {
      "cell_type": "code",
      "execution_count": null,
      "metadata": {
        "id": "TTSkCG2tKTzO"
      },
      "outputs": [],
      "source": [
        "import yaml"
      ]
    },
    {
      "cell_type": "code",
      "execution_count": null,
      "metadata": {
        "id": "2yrW4mDcJ35Q"
      },
      "outputs": [],
      "source": [
        "data = [{\n",
        "    'train': '/content/train_annotation/images',\n",
        "    'val': '/content/test_annotation/images',\n",
        "    'nc': 155,\n",
        "    'names': ['2_1', '1_23', '1_17', '3_24', '8_2_1', '5_20', '5_19_1', '5_16', '3_25',\n",
        "              '6_16', '7_15', '2_2', '2_4', '8_13_1', '4_2_1', '1_20_3', '1_25', '3_4', '8_3_2',\n",
        "              '3_4_1', '4_1_6', '4_2_3', '4_1_1', '1_33', '5_15_5', '3_27', '1_15', '4_1_2_1',\n",
        "              '6_3_1', '8_1_1', '6_7', '5_15_3', '7_3', '1_19', '6_4', '8_1_4', '8_8', '1_16',\n",
        "              '1_11_1', '6_6', '5_15_1', '7_2', '5_15_2', '7_12', '3_18', '5_6', '5_5', '7_4',\n",
        "              '4_1_2', '8_2_2', '7_11', '1_22', '1_27', '2_3_2', '5_15_2_2', '1_8', '3_13',\n",
        "              '2_3', '8_3_3', '2_3_3', '7_7', '1_11', '8_13', '1_12_2', '1_20', '1_12', '3_32',\n",
        "              '2_5', '3_1', '4_8_2', '3_20', '3_2', '2_3_6', '5_22', '5_18', '2_3_5', '7_5',\n",
        "              '8_4_1', '3_14', '1_2', '1_20_2', '4_1_4', '7_6', '8_1_3', '8_3_1', '4_3', '4_1_5',\n",
        "              '8_2_3', '8_2_4', '1_31', '3_10', '4_2_2', '7_1', '3_28', '4_1_3', '5_4', '5_3',\n",
        "              '6_8_2', '3_31', '6_2', '1_21', '3_21', '1_13', '1_14', '2_3_4', '4_8_3', '6_15_2',\n",
        "              '2_6', '3_18_2', '4_1_2_2', '1_7', '3_19', '1_18', '2_7', '8_5_4', '5_15_7', '5_14',\n",
        "              '5_21', '1_1', '6_15_1', '8_6_4', '8_15', '4_5', '3_11', '8_18', '8_4_4', '3_30',\n",
        "              '5_7_1', '5_7_2', '1_5', '3_29', '6_15_3', '5_12', '3_16', '1_30', '5_11', '1_6',\n",
        "              '8_6_2', '6_8_3', '3_12', '3_33', '8_4_3', '5_8', '8_14', '8_17', '3_6', '1_26',\n",
        "              '8_5_2', '6_8_1', '5_17', '1_10', '8_16', '7_18', '7_14', '8_23']\n",
        "}]"
      ]
    },
    {
      "cell_type": "code",
      "execution_count": null,
      "metadata": {
        "id": "9JZM52JPLjWZ"
      },
      "outputs": [],
      "source": [
        "def write_yaml_to_file(py_obj, filename) :\n",
        "    with open(f'{filename}.yaml', 'w+',) as f:\n",
        "        yaml.dump_all(py_obj, f, sort_keys=False)\n",
        "write_yaml_to_file(data, 'trafic_signs')"
      ]
    },
    {
      "cell_type": "markdown",
      "metadata": {
        "id": "6Mrd1dClQzmi"
      },
      "source": [
        "### Устанавливаем библиотеки"
      ]
    },
    {
      "cell_type": "code",
      "execution_count": null,
      "metadata": {
        "id": "dIhDfv-4r70y"
      },
      "outputs": [],
      "source": [
        "%pip install ultralytics"
      ]
    },
    {
      "cell_type": "markdown",
      "metadata": {
        "id": "D5D34PpSSQ6K"
      },
      "source": [
        "### Обучение"
      ]
    },
    {
      "cell_type": "code",
      "execution_count": null,
      "metadata": {
        "id": "64cVz4FeSQID"
      },
      "outputs": [],
      "source": [
        "from ultralytics import YOLO\n",
        "import torch\n",
        "import gc"
      ]
    },
    {
      "cell_type": "code",
      "execution_count": null,
      "metadata": {
        "id": "MEw3i1VCaljE"
      },
      "outputs": [],
      "source": [
        "gc.collect()\n",
        "torch.cuda.empty_cache()"
      ]
    },
    {
      "cell_type": "code",
      "execution_count": null,
      "metadata": {
        "id": "7dFP4an_SXmC"
      },
      "outputs": [],
      "source": [
        "model = YOLO('yolov8s.pt')\n",
        "\n",
        "results = model.train(\n",
        "   data='/content/trafic_signs.yaml',\n",
        "   imgsz=1280,\n",
        "   epochs=5,\n",
        "   batch=6,\n",
        "   device=0,\n",
        "   name='YOLOv8s'\n",
        ")"
      ]
    }
  ],
  "metadata": {
    "accelerator": "GPU",
    "colab": {
      "gpuType": "T4",
      "provenance": []
    },
    "kernelspec": {
      "display_name": "Python 3",
      "name": "python3"
    },
    "language_info": {
      "name": "python"
    }
  },
  "nbformat": 4,
  "nbformat_minor": 0
}
